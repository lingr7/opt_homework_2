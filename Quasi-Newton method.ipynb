{
 "cells": [
  {
   "cell_type": "markdown",
   "metadata": {},
   "source": [
    "## 算法实现与求解\n",
    "### 一般的非线性函数（非二次函数）"
   ]
  },
  {
   "cell_type": "code",
   "execution_count": 1,
   "metadata": {},
   "outputs": [],
   "source": [
    "#coding:UTF-8\n",
    " \n",
    "from numpy import *\n",
    "\n",
    "#fun  f(x)=100*(x1^2-x2^2)+(x1-1)^2\n",
    "def fun(x):\n",
    "    return 100 * (x[0,0] ** 2 - x[1,0]) ** 2 + (x[0,0] - 1) ** 2\n",
    " \n",
    "#gfun g(x)是一个2*1矩阵，第一行第一列是对x1求偏导，第二行第一列是对x2求偏导\n",
    "def gfun(x):\n",
    "    result = zeros((2, 1))\n",
    "    result[0, 0] = 400 * x[0,0] * (x[0,0] ** 2 - x[1,0]) + 2 * (x[0,0] - 1)\n",
    "    result[1, 0] = -200 * (x[0,0] ** 2 - x[1,0])\n",
    "    return result"
   ]
  },
  {
   "cell_type": "markdown",
   "metadata": {},
   "source": [
    "$min \\quad f(x)=100(x_1^2-x_2)^2+(x_1-1)^2$\n",
    "\n",
    "$g(x)=Df(x)=\\begin{bmatrix} 400x_1(x_1^2-x_2)+2(x_1-1)  \\\\ -200(x_1^2-x_2)  \\end{bmatrix}$"
   ]
  },
  {
   "cell_type": "markdown",
   "metadata": {},
   "source": [
    "### rank1算法"
   ]
  },
  {
   "cell_type": "markdown",
   "metadata": {},
   "source": [
    "rank1算法流程图\n",
    "近似矩阵迭代公式：\n",
    "\n",
    "${H_{k + 1}} = {H_k} + \\frac{(\\Delta {x^{\\left( k \\right)}}-{H_k}\\Delta {g^{\\left( k \\right)}})(\\Delta {x^{\\left( k \\right)}}-{H_k}\\Delta {g^{\\left( k \\right)}})^T} {(\\Delta {x^{\\left( k \\right)}}-{H_k}\\Delta {g^{\\left( k \\right)}})^T\\Delta {g^{\\left( k \\right)}}}$\n",
    "![算法流程图](figure/rank1.jpg)"
   ]
  },
  {
   "cell_type": "code",
   "execution_count": 2,
   "metadata": {},
   "outputs": [],
   "source": [
    "def rank1(fun, gfun, x0):\n",
    "    result = []\n",
    "    maxk = 500  #最大迭代次数\n",
    "    rho = 0.55\n",
    "    sigma = 0.4\n",
    "    epsilon=1e-5; \n",
    "    m = shape(x0)[0]\n",
    "    Hk = eye(m)\n",
    "    k = 0\n",
    "    while (k < maxk):\n",
    "        gk = mat(gfun(x0))#计算梯度\n",
    "        dk = -mat(Hk)*gk  #计算搜索方向\n",
    "        if(np.linalg.norm(gk)<epsilon): #检验终止准则\n",
    "            break \n",
    "        m = 0\n",
    "        mk = 0\n",
    "        while (m < 20): # 用Armijo搜索求步长 \n",
    "            newf = fun(x0 + rho ** m * dk)\n",
    "            oldf = fun(x0)\n",
    "            if (newf < oldf + sigma * (rho ** m) * (gk.T * dk)[0,0]):\n",
    "                mk = m\n",
    "                break\n",
    "            m = m + 1\n",
    "        \n",
    "        #rank1校正\n",
    "        x = x0 + rho ** mk * dk\n",
    "        sk = x - x0\n",
    "        yk = gfun(x) - gk\n",
    "        Hk = Hk + (sk-Hk*yk) * (sk-Hk*yk).T / ((sk-Hk*yk).T * yk)\n",
    "        \n",
    "        k = k + 1\n",
    "        x0 = x\n",
    "        result.append(fun(x0))\n",
    "    \n",
    "    return result"
   ]
  },
  {
   "cell_type": "markdown",
   "metadata": {},
   "source": [
    "### DFP算法"
   ]
  },
  {
   "cell_type": "markdown",
   "metadata": {},
   "source": [
    "DFP算法流程图\n",
    "近似矩阵迭代公式：\n",
    "${H_{k + 1}} = {H_k} + \\frac{{\\Delta {x^{\\left( k \\right)}}\\Delta {x^{\\left( k \\right)T}}}}{{\\Delta {x^{\\left( k \\right)T}}\\Delta {g^{\\left( k \\right)}}}} - \\frac{{\\left[ {{H_k}\\Delta {g^{\\left( k \\right)}}} \\right]{{\\left[ {{H_k}\\Delta {g^{\\left( k \\right)}}} \\right]}^T}}}{{\\Delta {g^{\\left( k \\right)T}}{H_k}\\Delta {g^{\\left( k \\right)}}}}$\n",
    "\n",
    "\n",
    "![算法流程图](figure/dfp.jpg)"
   ]
  },
  {
   "cell_type": "code",
   "execution_count": 3,
   "metadata": {},
   "outputs": [],
   "source": [
    "def dfp(fun, gfun, x0):\n",
    "    result = []\n",
    "    maxk = 500  #最大迭代次数\n",
    "    rho = 0.55\n",
    "    sigma = 0.4\n",
    "    epsilon=1e-5; \n",
    "    m = shape(x0)[0]\n",
    "    Hk = eye(m)\n",
    "    k = 0\n",
    "    while (k < maxk):\n",
    "        gk = mat(gfun(x0))#计算梯度\n",
    "        dk = -mat(Hk)*gk\n",
    "        if(np.linalg.norm(gk)<epsilon): #检验终止准则\n",
    "            break \n",
    "        m = 0\n",
    "        mk = 0\n",
    "        while (m < 20):\n",
    "            newf = fun(x0 + rho ** m * dk)\n",
    "            oldf = fun(x0)\n",
    "            if (newf < oldf + sigma * (rho ** m) * (gk.T * dk)[0,0]):\n",
    "                mk = m\n",
    "                break\n",
    "            m = m + 1\n",
    "        \n",
    "        #DFP校正\n",
    "        x = x0 + rho ** mk * dk\n",
    "        sk = x - x0\n",
    "        yk = gfun(x) - gk\n",
    "        if (sk.T * yk > 0):\n",
    "            Hk = Hk - (Hk * yk * yk.T * Hk) / (yk.T * Hk * yk) + (sk * sk.T) / (sk.T * yk)\n",
    "        \n",
    "        k = k + 1\n",
    "        x0 = x\n",
    "        result.append(fun(x0))\n",
    "    \n",
    "    return result"
   ]
  },
  {
   "cell_type": "markdown",
   "metadata": {},
   "source": [
    "### BFGS算法"
   ]
  },
  {
   "cell_type": "markdown",
   "metadata": {},
   "source": [
    "BFGS算法流程图\n",
    "近似矩阵迭代公式;\n",
    "${H_{k + 1}} = {H_k} - \\frac{{H_k}{\\Delta {x^{\\left( k \\right)}}\\Delta {x^{\\left( k \\right)T}}}{H_k}}{{\\Delta {x^{\\left( k \\right)T}}{H_k}\\Delta {x^{\\left( k \\right)}}}} +\\frac{{\\left[ {\\Delta {g^{\\left( k \\right)}}} \\right]{{\\left[ {\\Delta {g^{\\left( k \\right)}}} \\right]}^T}}}{{\\Delta {g^{\\left( k \\right)T}}\\Delta {x^{\\left( k \\right)}}}}$\n",
    "\n",
    "![算法流程图](figure/bfgs.jpg)"
   ]
  },
  {
   "cell_type": "code",
   "execution_count": 4,
   "metadata": {},
   "outputs": [],
   "source": [
    "def bfgs(fun, gfun, x0):\n",
    "    result = []\n",
    "    maxk = 500 #最大迭代次数\n",
    "    rho = 0.55\n",
    "    sigma = 0.4\n",
    "    epsilon=1e-5; \n",
    "    m = shape(x0)[0]\n",
    "    Bk = eye(m)\n",
    "    k = 0\n",
    "    while (k < maxk):\n",
    "        gk = mat(gfun(x0)) #计算梯度\n",
    "        dk = mat(-linalg.solve(Bk, gk))\n",
    "        if(np.linalg.norm(gk)<epsilon): #检验终止准则\n",
    "            break \n",
    "        m = 0\n",
    "        mk = 0\n",
    "        while (m < 20):   #用Armijo搜索求步长 \n",
    "            newf = fun(x0 + rho ** m * dk)\n",
    "            oldf = fun(x0)\n",
    "            if (newf < oldf + sigma * (rho ** m) * (gk.T * dk)[0,0]):\n",
    "                mk = m\n",
    "                break\n",
    "            m = m + 1\n",
    "        \n",
    "        #BFGS校正\n",
    "        x = x0 + rho ** mk * dk\n",
    "        sk = x - x0\n",
    "        yk = gfun(x) - gk\n",
    "        if (yk.T * sk > 0):\n",
    "            Bk = Bk - (Bk * sk * sk.T * Bk) / (sk.T * Bk * sk) + (yk * yk.T) / (yk.T * sk)\n",
    "        \n",
    "        k = k + 1\n",
    "        x0 = x\n",
    "        result.append(fun(x0))\n",
    "    \n",
    "    return result\n"
   ]
  },
  {
   "cell_type": "markdown",
   "metadata": {},
   "source": [
    "`result`中记录了每一次迭代的`x`的函数值。`result`中元素的数量即迭代总次数。"
   ]
  },
  {
   "cell_type": "markdown",
   "metadata": {},
   "source": [
    "## 算法收敛速度"
   ]
  },
  {
   "cell_type": "code",
   "execution_count": 13,
   "metadata": {},
   "outputs": [
    {
     "name": "stdout",
     "output_type": "stream",
     "text": [
      "43\n",
      "6.469347536626816e-19\n"
     ]
    },
    {
     "data": {
      "image/png": "[encoded data removed]",
      "text/plain": [
       "<Figure size 432x288 with 1 Axes>"
      ]
     },
     "metadata": {
      "needs_background": "light"
     },
     "output_type": "display_data"
    }
   ],
   "source": [
    "import matplotlib.pyplot as plt  \n",
    "import numpy as np\n",
    "    \n",
    "x0 = mat([[-1.2], [1]])\n",
    "result = rank1(fun, gfun, x0)\n",
    " \n",
    "n = len(result)\n",
    "ax = plt.figure().add_subplot(111)\n",
    "x = arange(0, n, 1)\n",
    "y = result\n",
    "ax.plot(x,y)\n",
    "print (n)\n",
    "print (result[n-1])\n",
    "plt.show()"
   ]
  },
  {
   "cell_type": "code",
   "execution_count": 6,
   "metadata": {},
   "outputs": [
    {
     "name": "stdout",
     "output_type": "stream",
     "text": [
      "33\n",
      "2.1896368842271688e-16\n"
     ]
    },
    {
     "data": {
      "image/png": "[encoded data removed]",
      "text/plain": [
       "<Figure size 432x288 with 1 Axes>"
      ]
     },
     "metadata": {
      "needs_background": "light"
     },
     "output_type": "display_data"
    }
   ],
   "source": [
    "import matplotlib.pyplot as plt  \n",
    "import numpy as np\n",
    "\n",
    "x0 = mat([[-1.2], [1]])\n",
    "result = dfp(fun, gfun, x0)\n",
    " \n",
    "n = len(result)\n",
    "ax = plt.figure().add_subplot(111)\n",
    "x = arange(0, n, 1)\n",
    "y = result\n",
    "ax.plot(x,y)\n",
    "print (n)\n",
    "print (result[n-1]) \n",
    "plt.show()"
   ]
  },
  {
   "cell_type": "code",
   "execution_count": 7,
   "metadata": {},
   "outputs": [
    {
     "name": "stdout",
     "output_type": "stream",
     "text": [
      "32\n",
      "6.753896559404069e-16\n"
     ]
    },
    {
     "data": {
      "image/png": "[encoded data removed]",
      "text/plain": [
       "<Figure size 432x288 with 1 Axes>"
      ]
     },
     "metadata": {
      "needs_background": "light"
     },
     "output_type": "display_data"
    }
   ],
   "source": [
    "import matplotlib.pyplot as plt  \n",
    "import numpy as np\n",
    "\n",
    "x0 = mat([[-1.2], [1]])\n",
    "result = bfgs(fun, gfun, x0)\n",
    " \n",
    "n = len(result)\n",
    "ax = plt.figure().add_subplot(111)\n",
    "x = arange(0, n, 1)\n",
    "y = result\n",
    "ax.plot(x,y)\n",
    "print (n)\n",
    "print (result[n-1])\n",
    "plt.show()"
   ]
  },
  {
   "cell_type": "markdown",
   "metadata": {},
   "source": [
    "| 初始点   | 算法  | 迭代次数 | 目标函数值             |\n",
    "| -------- | ----- | -------- | ---------------------- |\n",
    "| [-1.2,0] | rank1 | 43       | 6.469347536626816e-19  |\n",
    "| [-1.2,0] | DFP   | 33       | 2.1896368842271688e-16 |\n",
    "| [-1.2,0] | BFGS  | 32       | 6.753896559404069e-16  |"
   ]
  },
  {
   "cell_type": "markdown",
   "metadata": {},
   "source": [
    "```MATLAB\n",
    "function [x,val,k]=sr1(fun,gfun, x0)\n",
    "%功能: 用对称秩1算法求解无约束问题:  min f(x)\n",
    "%输入: x0是初始点, fun, gfun分别是目标函数及其梯度\n",
    "%输出:  x, val分别是近似最优点和最优值,  k是迭代次数.\n",
    "maxk=500;   %给出最大迭代次数\n",
    "rho=0.55;sigma=0.4; epsilon=1e-5; \n",
    "k=0;   n=length(x0); Hk=eye(n); \n",
    "while(k<maxk)\n",
    "    gk=feval(gfun,x0); %计算梯度\n",
    "    dk=-Hk*gk; %计算搜索方向\n",
    "    if(norm(gk)<epsilon), break; end  %检验终止准则\n",
    "    m=0; mk=0;\n",
    "    while(m<20)   % 用Armijo搜索求步长 \n",
    "        if(feval(fun,x0+rho^m*dk)<feval(fun,x0)+sigma*rho^m*gk'*dk)\n",
    "            mk=m; break;\n",
    "        end\n",
    "        m=m+1;\n",
    "    end\n",
    "    x=x0+rho^mk*dk;  \n",
    "    sk=x-x0;  yk=feval(gfun,x)-gk;\n",
    "    Hk=Hk+(sk-Hk*yk)*(sk-Hk*yk)'/((sk-Hk*yk)'*yk); %秩1校正\n",
    "    k=k+1;     x0=x;\n",
    "end\n",
    "val=feval(fun,x0); \n",
    "```"
   ]
  },
  {
   "cell_type": "markdown",
   "metadata": {},
   "source": [
    "## 算法的不同"
   ]
  },
  {
   "cell_type": "markdown",
   "metadata": {},
   "source": [
    "秩1算法的近似矩阵$H_k$不都是正定的。\n",
    "秩2算法可以保证在任意第k步迭代下，只要一维搜索是精确的，近似矩阵$H_k$就都是正定的。\n",
    "如DFP算法和BFGS算法。"
   ]
  },
  {
   "cell_type": "markdown",
   "metadata": {},
   "source": [
    "## 利用三种算法求解二次型函数"
   ]
  },
  {
   "cell_type": "markdown",
   "metadata": {},
   "source": [
    "$min \\quad f(x)= \\frac{1}{2} x^TQx-x^Tb+log(\\pi)$"
   ]
  },
  {
   "cell_type": "markdown",
   "metadata": {},
   "source": [
    "$Q=\\begin{bmatrix} 5 & -3 \\\\ -3 & 2 \\end{bmatrix}$,$\\quad b=\\begin{bmatrix} 0 \\\\ 1 \\end{bmatrix}$"
   ]
  },
  {
   "cell_type": "markdown",
   "metadata": {},
   "source": [
    "初始点$x^(0)=[0,0]^T$"
   ]
  },
  {
   "cell_type": "markdown",
   "metadata": {},
   "source": [
    "### rank1算法"
   ]
  },
  {
   "cell_type": "code",
   "execution_count": 8,
   "metadata": {},
   "outputs": [
    {
     "name": "stdout",
     "output_type": "stream",
     "text": [
      "22\n",
      "7.03038991702876e-19\n",
      "[0.7796505328309867, 0.647903329132764, 0.43174864447002853, 0.35395519320995333, 0.2790157858586189, 0.2301727452032303, 66.8551930552344, 0.3803419443079954, 0.01919688557291296, 0.014493403655030242, 0.0243827267616587, 0.006523531618577661, 0.004711909032094199, 0.003938932709861242, 0.005944832855606774, 0.00013813269252629403, 2.7062473522404853e-05, 1.1753584996447982e-06, 1.7974047514389684e-07, 4.12580600588475e-11, 4.2697255197291215e-13, 7.03038991702876e-19]\n"
     ]
    },
    {
     "data": {
      "image/png": "[encoded data removed]",
      "text/plain": [
       "<Figure size 432x288 with 1 Axes>"
      ]
     },
     "metadata": {
      "needs_background": "light"
     },
     "output_type": "display_data"
    }
   ],
   "source": [
    "import matplotlib.pyplot as plt  \n",
    "import numpy as np\n",
    "    \n",
    "x0 = mat([[0], [0]])\n",
    "result = rank1(fun, gfun, x0) \n",
    "n = len(result)\n",
    "ax = plt.figure().add_subplot(111)\n",
    "x = arange(0, n, 1)\n",
    "y = result\n",
    "ax.plot(x,y)\n",
    "print (n)\n",
    "print (result[n-1])\n",
    "print (result)   # 迭代中间结果\n",
    "plt.show()"
   ]
  },
  {
   "cell_type": "markdown",
   "metadata": {},
   "source": [
    "### DFP算法"
   ]
  },
  {
   "cell_type": "code",
   "execution_count": 9,
   "metadata": {},
   "outputs": [
    {
     "name": "stdout",
     "output_type": "stream",
     "text": [
      "29\n",
      "7.19219715138461e-17\n",
      "[0.7796505328309867, 0.6594092966734678, 0.4884649661302388, 0.37412962490090296, 0.34187217174408696, 0.3120357733196676, 0.2452711477829217, 0.2122170971698485, 0.12114855860725816, 0.09503104273020731, 0.06883922226115423, 0.051367526656193756, 0.023795380641520036, 0.017416572210177308, 0.012996917660099784, 0.007397028905316069, 0.004372484396145824, 0.00047420975648178657, 0.00030087781694019037, 0.00017741503728331413, 6.025114908106955e-05, 2.4188348072428142e-05, 2.6128936793145394e-06, 4.7596994547672995e-07, 4.256328564678119e-08, 1.4857356731312556e-09, 1.8314208202538454e-11, 7.56977430809567e-14, 7.19219715138461e-17]\n"
     ]
    },
    {
     "data": {
      "image/png": "[encoded data removed]",
      "text/plain": [
       "<Figure size 432x288 with 1 Axes>"
      ]
     },
     "metadata": {
      "needs_background": "light"
     },
     "output_type": "display_data"
    }
   ],
   "source": [
    "import matplotlib.pyplot as plt  \n",
    "import numpy as np\n",
    "\n",
    "x0 = mat([[0], [0]])\n",
    "result = dfp(fun, gfun, x0)\n",
    " \n",
    "n = len(result)\n",
    "ax = plt.figure().add_subplot(111)\n",
    "x = arange(0, n, 1)\n",
    "y = result\n",
    "ax.plot(x,y)\n",
    "print (n)\n",
    "print (result[n-1])\n",
    "print (result)   # 迭代中间结果\n",
    "plt.show()"
   ]
  },
  {
   "cell_type": "markdown",
   "metadata": {},
   "source": [
    "### BFGS算法"
   ]
  },
  {
   "cell_type": "code",
   "execution_count": 10,
   "metadata": {},
   "outputs": [
    {
     "name": "stdout",
     "output_type": "stream",
     "text": [
      "20\n",
      "2.20047705066948e-11\n",
      "[0.7796505328309867, 0.6595694253943865, 0.47152888012853705, 0.34924438689304865, 0.3180704353850303, 0.23063472651536962, 0.15310047456201717, 0.12936214773849927, 0.08232065702719052, 0.04522341147137615, 0.026501461178135587, 0.018220593494777646, 0.009901412537376825, 0.00486909437034745, 0.0014634459405904923, 0.00033906943140043903, 5.44227522716887e-05, 3.839876322272881e-06, 1.0573888624004621e-07, 2.20047705066948e-11]\n"
     ]
    },
    {
     "data": {
      "image/png": "[encoded data removed]",
      "text/plain": [
       "<Figure size 432x288 with 1 Axes>"
      ]
     },
     "metadata": {
      "needs_background": "light"
     },
     "output_type": "display_data"
    }
   ],
   "source": [
    "import matplotlib.pyplot as plt  \n",
    "import numpy as np\n",
    "\n",
    "x0 = mat([[0], [0]])\n",
    "result = bfgs(fun, gfun, x0)\n",
    " \n",
    "n = len(result)\n",
    "ax = plt.figure().add_subplot(111)\n",
    "x = arange(0, n, 1)\n",
    "y = result\n",
    "ax.plot(x,y)\n",
    "print (n)\n",
    "print (result[n-1])\n",
    "print (result)   # 迭代中间结果\n",
    "plt.show()"
   ]
  },
  {
   "cell_type": "markdown",
   "metadata": {},
   "source": [
    "| 初始点   | 算法  | 迭代次数 | 目标函数值             |\n",
    "| -------- | ----- | -------- | ---------------------- |\n",
    "| [0,0] | rank1 | 22       |  7.03038991702876e-19|\n",
    "| [0,0] | DFP   | 29       | 7.19219715138461e-17 |\n",
    "| [0,0] | BFGS  | 20       |  2.20047705066948e-11|"
   ]
  },
  {
   "cell_type": "markdown",
   "metadata": {},
   "source": [
    "从收敛的图形来看，rank1算法随着迭代，函数值并没有正常减小，而是有一个突变，这可能是中间迭代矩阵不正定引起的。\n",
    "DFP算法和BFGS算法收敛图形趋势比较正常。"
   ]
  },
  {
   "cell_type": "markdown",
   "metadata": {},
   "source": [
    "针对rank1算法和BFGS算法的中间结果进行进一步分析。"
   ]
  },
  {
   "cell_type": "markdown",
   "metadata": {},
   "source": [
    "得到这个异常是在第5次迭代产生的。\n"
   ]
  },
  {
   "cell_type": "markdown",
   "metadata": {},
   "source": [
    "### 异常分析"
   ]
  },
  {
   "cell_type": "code",
   "execution_count": 11,
   "metadata": {},
   "outputs": [],
   "source": [
    "def rank1_test(fun, gfun, x0):\n",
    "    result = []\n",
    "    maxk = 500  #最大迭代次数\n",
    "    rho = 0.55\n",
    "    sigma = 0.4\n",
    "    epsilon=1e-5\n",
    "    m = shape(x0)[0]\n",
    "    Hk = eye(m)\n",
    "    print(Hk)\n",
    "    k = 0\n",
    "    while (k < maxk):\n",
    "        gk = mat(gfun(x0))#计算梯度\n",
    "        dk = -mat(Hk)*gk  #计算搜索方向\n",
    "        if(np.linalg.norm(gk)<epsilon): #检验终止准则\n",
    "            break \n",
    "        m = 0\n",
    "        mk = 0\n",
    "        while (m < 20): # 用Armijo搜索求步长 \n",
    "            newf = fun(x0 + rho ** m * dk)\n",
    "            oldf = fun(x0)\n",
    "            if (newf < oldf + sigma * (rho ** m) * (gk.T * dk)[0,0]):\n",
    "                mk = m\n",
    "                break\n",
    "            m = m + 1\n",
    "        \n",
    "        #rank1校正\n",
    "        x = x0 + rho ** mk * dk\n",
    "        sk = x - x0\n",
    "        yk = gfun(x) - gk\n",
    "        Hk = Hk + (sk-Hk*yk) * (sk-Hk*yk).T / ((sk-Hk*yk).T * yk)\n",
    "        print(Hk)\n",
    "        print('这是第')\n",
    "        print(k)\n",
    "        print('次迭代生成的近似矩阵')\n",
    "        if(k==5) :\n",
    "            B=np.linalg.eigvals(Hk)\n",
    "            print(B)\n",
    "            if np.all(B>0):\n",
    "                print ('正定')\n",
    "            else:\n",
    "                print ('非正定')\n",
    "        if(k==9):\n",
    "            B=np.linalg.eigvals(Hk)\n",
    "            print(B)\n",
    "            if np.all(B>0):\n",
    "                print ('正定')\n",
    "            else:\n",
    "                print ('非正定')\n",
    "        k = k + 1\n",
    "        x0 = x\n",
    "        result.append(fun(x0))\n",
    "    \n",
    "    return result"
   ]
  },
  {
   "cell_type": "code",
   "execution_count": 12,
   "metadata": {
    "scrolled": false
   },
   "outputs": [
    {
     "name": "stdout",
     "output_type": "stream",
     "text": [
      "[[1. 0.]\n",
      " [0. 1.]]\n",
      "[[0.86724575 0.33750033]\n",
      " [0.33750033 0.14197494]]\n",
      "这是第\n",
      "0\n",
      "次迭代生成的近似矩阵\n",
      "[[0.05995369 0.03369757]\n",
      " [0.03369757 0.0276469 ]]\n",
      "这是第\n",
      "1\n",
      "次迭代生成的近似矩阵\n",
      "[[0.04723135 0.03268716]\n",
      " [0.03268716 0.02756666]]\n",
      "这是第\n",
      "2\n",
      "次迭代生成的近似矩阵\n",
      "[[0.28485643 0.21368771]\n",
      " [0.21368771 0.16543594]]\n",
      "这是第\n",
      "3\n",
      "次迭代生成的近似矩阵\n",
      "[[0.1220735  0.10383508]\n",
      " [0.10383508 0.09130286]]\n",
      "这是第\n",
      "4\n",
      "次迭代生成的近似矩阵\n",
      "[[ 0.09783395  0.15160711]\n",
      " [ 0.15160711 -0.0028477 ]]\n",
      "这是第\n",
      "5\n",
      "次迭代生成的近似矩阵\n",
      "[ 0.20723953 -0.11225328]\n",
      "非正定\n",
      "[[0.09789522 0.15556286]\n",
      " [0.15556286 0.25256117]]\n",
      "这是第\n",
      "6\n",
      "次迭代生成的近似矩阵\n",
      "[[0.09743708 0.15523955]\n",
      " [0.15523955 0.252333  ]]\n",
      "这是第\n",
      "7\n",
      "次迭代生成的近似矩阵\n",
      "[[0.0970004  0.15408129]\n",
      " [0.15408129 0.2492608 ]]\n",
      "这是第\n",
      "8\n",
      "次迭代生成的近似矩阵\n",
      "[[-0.1639139  -0.27903183]\n",
      " [-0.27903183 -0.4696993 ]]\n",
      "这是第\n",
      "9\n",
      "次迭代生成的近似矩阵\n",
      "[ 0.00136778 -0.63498099]\n",
      "非正定\n",
      "[[0.48213674 0.83287166]\n",
      " [0.83287166 1.44397324]]\n",
      "这是第\n",
      "10\n",
      "次迭代生成的近似矩阵\n",
      "[[0.39264455 0.68923185]\n",
      " [0.68923185 1.21342355]]\n",
      "这是第\n",
      "11\n",
      "次迭代生成的近似矩阵\n",
      "[[0.25066573 0.45631128]\n",
      " [0.45631128 0.83131029]]\n",
      "这是第\n",
      "12\n",
      "次迭代生成的近似矩阵\n",
      "[[0.23548713 0.43465057]\n",
      " [0.43465057 0.80039925]]\n",
      "这是第\n",
      "13\n",
      "次迭代生成的近似矩阵\n",
      "[[0.31340729 0.60535568]\n",
      " [0.60535568 1.17437481]]\n",
      "这是第\n",
      "14\n",
      "次迭代生成的近似矩阵\n",
      "[[0.35368114 0.68572018]\n",
      " [0.68572018 1.33473825]]\n",
      "这是第\n",
      "15\n",
      "次迭代生成的近似矩阵\n",
      "[[0.47146899 0.93304529]\n",
      " [0.93304529 1.85405927]]\n",
      "这是第\n",
      "16\n",
      "次迭代生成的近似矩阵\n",
      "[[0.38405497 0.77657038]\n",
      " [0.77657038 1.57396236]]\n",
      "这是第\n",
      "17\n",
      "次迭代生成的近似矩阵\n",
      "[[0.48106364 0.96051536]\n",
      " [0.96051536 1.9227534 ]]\n",
      "这是第\n",
      "18\n",
      "次迭代生成的近似矩阵\n",
      "[[0.47461    0.94648871]\n",
      " [0.94648871 1.89226724]]\n",
      "这是第\n",
      "19\n",
      "次迭代生成的近似矩阵\n",
      "[[0.50177928 1.00345234]\n",
      " [1.00345234 2.01169826]]\n",
      "这是第\n",
      "20\n",
      "次迭代生成的近似矩阵\n",
      "[[0.49983374 0.99968422]\n",
      " [0.99968422 2.00440016]]\n",
      "这是第\n",
      "21\n",
      "次迭代生成的近似矩阵\n",
      "22\n",
      "7.03038991702876e-19\n",
      "[0.7796505328309867, 0.647903329132764, 0.43174864447002853, 0.35395519320995333, 0.2790157858586189, 0.2301727452032303, 66.8551930552344, 0.3803419443079954, 0.01919688557291296, 0.014493403655030242, 0.0243827267616587, 0.006523531618577661, 0.004711909032094199, 0.003938932709861242, 0.005944832855606774, 0.00013813269252629403, 2.7062473522404853e-05, 1.1753584996447982e-06, 1.7974047514389684e-07, 4.12580600588475e-11, 4.2697255197291215e-13, 7.03038991702876e-19]\n"
     ]
    },
    {
     "data": {
      "image/png": "[encoded data removed]",
      "text/plain": [
       "<Figure size 432x288 with 1 Axes>"
      ]
     },
     "metadata": {
      "needs_background": "light"
     },
     "output_type": "display_data"
    }
   ],
   "source": [
    "import matplotlib.pyplot as plt  \n",
    "import numpy as np\n",
    "    \n",
    "x0 = mat([[0], [0]])\n",
    "result = rank1_test(fun, gfun, x0) \n",
    "n = len(result)\n",
    "ax = plt.figure().add_subplot(111)\n",
    "x = arange(0, n, 1)\n",
    "y = result\n",
    "ax.plot(x,y)\n",
    "print (n)\n",
    "print (result[n-1])\n",
    "print (result)   # 迭代中间结果\n",
    "plt.show()"
   ]
  },
  {
   "cell_type": "markdown",
   "metadata": {},
   "source": [
    "由上可知，第5次和第9次迭代产生的都不是正定矩阵。"
   ]
  }
 ],
 "metadata": {
  "kernelspec": {
   "display_name": "Python 3",
   "language": "python",
   "name": "python3"
  },
  "language_info": {
   "codemirror_mode": {
    "name": "ipython",
    "version": 3
   },
   "file_extension": ".py",
   "mimetype": "text/x-python",
   "name": "python",
   "nbconvert_exporter": "python",
   "pygments_lexer": "ipython3",
   "version": "3.7.4"
  }
 },
 "nbformat": 4,
 "nbformat_minor": 2
}
